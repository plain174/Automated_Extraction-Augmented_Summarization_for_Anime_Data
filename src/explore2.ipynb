{
 "cells": [
  {
   "metadata": {
    "ExecuteTime": {
     "end_time": "2024-08-09T06:06:36.791591Z",
     "start_time": "2024-08-09T06:06:36.355090Z"
    }
   },
   "cell_type": "code",
   "source": "import main",
   "id": "a753830e45daf51e",
   "outputs": [
    {
     "name": "stdout",
     "output_type": "stream",
     "text": [
      "{'AVG_TIME': '2016年10月24日', 'TIME_SUM_RESULT': [['2005年3月22日-2020年7月1日', '45季6集', 0.0], ['2020年7月1日-2021年7月1日', '38季4集', 0.0], ['2021年7月1日-2022年7月1日', '39季3集', 0.0], ['2022年7月1日-2023年1月1日', '25季0集', 0.0], ['2023年1月1日-2024年1月26日', '44季2集', 0.0]], 'TIME_POINT_TOTAL': [['2005年3月22日', 0], ['2020年1月1日', 15], ['2020年7月1日', 36], ['2020年9月1日', 52], ['2021年7月1日', 71], ['2021年9月1日', 89], ['2022年7月1日', 100], ['2022年9月1日', 116], ['2023年1月1日', 127], ['2023年9月1日', 141], ['2024年1月26日', 163]], 'UPDATE_TOTAL': [1.0, 0.11920529801324503, 0.12060301507537688, 0.4099616858237548, 0.041666666666666664, 0.19672131147540983, 0.20765027322404372, 0.6837606837606838, 0.18992248062015504, 0.21691176470588236], 'UPDATE_SUM': 0.28608582574772434, 'ANI_TIME_TOTAL': (192, '季', 3, '集'), 'ANI_AVG': 1.6068179552365285e-05}\n"
     ]
    }
   ],
   "execution_count": 1
  },
  {
   "metadata": {
    "ExecuteTime": {
     "end_time": "2024-08-09T06:06:36.834593Z",
     "start_time": "2024-08-09T06:06:36.791591Z"
    }
   },
   "cell_type": "code",
   "source": "main.upload_json()",
   "id": "c8917db0bc64ab6",
   "outputs": [],
   "execution_count": 2
  },
  {
   "metadata": {
    "ExecuteTime": {
     "end_time": "2024-08-09T06:06:37.287023Z",
     "start_time": "2024-08-09T06:06:36.834593Z"
    }
   },
   "cell_type": "code",
   "source": [
    "main.check_isexist_update_ch_and_pe2()\n",
    "main.check()\n",
    "main.get_norml_result()"
   ],
   "id": "468876a0955cc461",
   "outputs": [
    {
     "name": "stdout",
     "output_type": "stream",
     "text": [
      "角色的设定\n",
      "2969\n",
      "性别 2836\n",
      "身高 439\n",
      "生日 512\n",
      "血型 256\n",
      "体重 203\n",
      "BWH 55\n",
      "地位有哪些\n",
      "主角 387\n",
      "配角 2129\n",
      "客串 453\n",
      "动漫作品的设定\n",
      "中文名 153\n",
      "话数 153\n",
      "放送开始 153\n",
      "放送星期 145\n",
      "原作 150\n",
      "导演 147\n",
      "脚本 144\n",
      "分镜 151\n",
      "演出 148\n",
      "音乐 147\n",
      "人物设定 151\n",
      "系列构成 134\n",
      "美术监督 137\n",
      "色彩设计 137\n",
      "总作画监督 137\n",
      "作画监督 146\n",
      "摄影监督 140\n",
      "原画 149\n",
      "第二原画 118\n",
      "动画检查 84\n",
      "剪辑 131\n",
      "主题歌编曲 91\n",
      "主题歌作曲 93\n",
      "主题歌作词 93\n",
      "主题歌演出 121\n",
      "企画 124\n",
      "制作管理 88\n",
      "製作 127\n",
      "设定 39\n",
      "音响监督 145\n",
      "音响 92\n",
      "音效 100\n",
      "特效 71\n",
      "补间动画 110\n",
      "执行制片人 41\n",
      "制作进行 97\n",
      "音乐制作 106\n",
      "动画制作 153\n",
      "美术设计 85\n",
      "副导演 45\n",
      "OP・ED 分镜 128\n",
      "3DCG 48\n",
      "制作协力 85\n",
      "制作进行协力 12\n",
      "动画制片人 116\n",
      "演出助理 23\n",
      "别名 138\n",
      "官方网站 143\n",
      "播放电视台 133\n",
      "其他电视台 108\n",
      "播放结束 153\n",
      "Copyright 127\n",
      "原声集 143\n",
      "片头曲 145\n",
      "片尾曲 137\n",
      "ep 153\n",
      "tag 153\n",
      "rank 153\n",
      "cv 153\n",
      "道具设计 94\n",
      "制作助理 16\n",
      "色彩指定 49\n",
      "制片人 140\n",
      "总制片人 53\n",
      "特别鸣谢 25\n",
      "摄影 52\n",
      "设定制作 21\n",
      "人物原案 65\n",
      "背景美术 78\n",
      "制作 27\n",
      "构图 14\n",
      "总导演 20\n",
      "协力 34\n",
      "作画监督助理 50\n",
      "机械设定 13\n",
      "录音 28\n",
      "助理制片人 54\n",
      "音乐制作人 44\n",
      "监修 20\n",
      "动作作画监督 23\n",
      "CG 导演 54\n",
      "主动画师 16\n",
      "插入歌演出 23\n",
      "宣传 15\n",
      "tag\n",
      "1027\n",
      "总动漫部数： 153\n",
      "总动漫部数(归类后)： 153\n",
      "总动漫角色数: 3993\n",
      "有图片数： 2963\n",
      "总声优数: 1194\n",
      "有图片数： 1189\n"
     ]
    }
   ],
   "execution_count": 3
  },
  {
   "metadata": {
    "ExecuteTime": {
     "end_time": "2024-08-09T06:06:44.644946Z",
     "start_time": "2024-08-09T06:06:44.579435Z"
    }
   },
   "cell_type": "code",
   "source": "main.open_excel(main.excel_url)",
   "id": "cc034840d1ceb04b",
   "outputs": [
    {
     "data": {
      "text/plain": [
       "True"
      ]
     },
     "execution_count": 4,
     "metadata": {},
     "output_type": "execute_result"
    }
   ],
   "execution_count": 4
  },
  {
   "metadata": {
    "ExecuteTime": {
     "end_time": "2024-08-09T06:06:49.738356Z",
     "start_time": "2024-08-09T06:06:49.734625Z"
    }
   },
   "cell_type": "code",
   "source": "main.isexist_data2()",
   "id": "dddd37dada2fe041",
   "outputs": [
    {
     "name": "stdout",
     "output_type": "stream",
     "text": [
      "perpson载入完成\n"
     ]
    }
   ],
   "execution_count": 6
  },
  {
   "metadata": {
    "ExecuteTime": {
     "end_time": "2024-08-08T02:29:52.344273Z",
     "start_time": "2024-08-08T02:29:52.339603Z"
    }
   },
   "cell_type": "code",
   "source": "data_strip()",
   "id": "712cbf409420e37a",
   "outputs": [],
   "execution_count": 3
  },
  {
   "metadata": {
    "ExecuteTime": {
     "end_time": "2024-08-09T03:23:56.317211Z",
     "start_time": "2024-08-09T03:23:56.185607Z"
    }
   },
   "cell_type": "code",
   "source": "main.load_json()",
   "id": "e106c662574e6220",
   "outputs": [],
   "execution_count": 6
  },
  {
   "metadata": {
    "ExecuteTime": {
     "end_time": "2024-08-08T02:54:53.446645Z",
     "start_time": "2024-08-08T02:54:53.443041Z"
    }
   },
   "cell_type": "code",
   "source": "m=list(main.cartoon_data.keys())[0]",
   "id": "8c9ede573e485007",
   "outputs": [],
   "execution_count": 6
  },
  {
   "metadata": {
    "ExecuteTime": {
     "end_time": "2024-08-08T07:40:08.363873Z",
     "start_time": "2024-08-08T07:39:41.632098Z"
    }
   },
   "cell_type": "code",
   "source": "main.isexist_data()",
   "id": "143c3d33bc14b351",
   "outputs": [
    {
     "name": "stdout",
     "output_type": "stream",
     "text": [
      "<urlopen error timed out>\n",
      "<urlopen error [Errno 11001] getaddrinfo failed>\n"
     ]
    },
    {
     "name": "stderr",
     "output_type": "stream",
     "text": [
      "C:\\Users\\17402\\Desktop\\实习\\nl2sql\\.venv\\Lib\\site-packages\\bs4\\__init__.py:228: UserWarning: You provided Unicode markup but also provided a value for from_encoding. Your from_encoding will be ignored.\n",
      "  warnings.warn(\"You provided Unicode markup but also provided a value for from_encoding. Your from_encoding will be ignored.\")\n"
     ]
    },
    {
     "name": "stdout",
     "output_type": "stream",
     "text": [
      "None\n"
     ]
    },
    {
     "ename": "AttributeError",
     "evalue": "'NoneType' object has no attribute 'div'",
     "output_type": "error",
     "traceback": [
      "\u001B[1;31m---------------------------------------------------------------------------\u001B[0m",
      "\u001B[1;31mAttributeError\u001B[0m                            Traceback (most recent call last)",
      "Cell \u001B[1;32mIn[3], line 1\u001B[0m\n\u001B[1;32m----> 1\u001B[0m \u001B[43mmain\u001B[49m\u001B[38;5;241;43m.\u001B[39;49m\u001B[43misexist_data\u001B[49m\u001B[43m(\u001B[49m\u001B[43m)\u001B[49m\n",
      "File \u001B[1;32m~\\Desktop\\爬虫\\bangumi下载\\main.py:72\u001B[0m, in \u001B[0;36misexist_data\u001B[1;34m()\u001B[0m\n\u001B[0;32m     70\u001B[0m time\u001B[38;5;241m.\u001B[39msleep(\u001B[38;5;241m1\u001B[39m)\n\u001B[0;32m     71\u001B[0m content1\u001B[38;5;241m=\u001B[39mget_url(\u001B[38;5;124m'\u001B[39m\u001B[38;5;124mhttps://bangumi.tv/subject/\u001B[39m\u001B[38;5;124m'\u001B[39m\u001B[38;5;241m+\u001B[39mx\u001B[38;5;241m+\u001B[39m\u001B[38;5;124m'\u001B[39m\u001B[38;5;124m/characters\u001B[39m\u001B[38;5;124m'\u001B[39m)\n\u001B[1;32m---> 72\u001B[0m save_dict\u001B[38;5;241m=\u001B[39m\u001B[43mget_save\u001B[49m\u001B[43m(\u001B[49m\u001B[43mcontent\u001B[49m\u001B[43m,\u001B[49m\u001B[43mcontent1\u001B[49m\u001B[43m,\u001B[49m\u001B[43mperson_data\u001B[49m\u001B[43m,\u001B[49m\u001B[43mcharacter_data\u001B[49m\u001B[43m,\u001B[49m\u001B[43mx\u001B[49m\u001B[43m)\u001B[49m\n\u001B[0;32m     73\u001B[0m cartoon_data[x]\u001B[38;5;241m=\u001B[39msave_dict\n\u001B[0;32m     74\u001B[0m \u001B[38;5;28;01mif\u001B[39;00m \u001B[38;5;129;01mnot\u001B[39;00m os\u001B[38;5;241m.\u001B[39mpath\u001B[38;5;241m.\u001B[39mexists(init_menu\u001B[38;5;241m+\u001B[39m\u001B[38;5;124m\"\u001B[39m\u001B[38;5;124msave/total_img/\u001B[39m\u001B[38;5;124m\"\u001B[39m\u001B[38;5;241m+\u001B[39mx\u001B[38;5;241m+\u001B[39m\u001B[38;5;124m'\u001B[39m\u001B[38;5;124m.jpg\u001B[39m\u001B[38;5;124m'\u001B[39m):\n",
      "File \u001B[1;32m~\\Desktop\\爬虫\\bangumi下载\\爬虫.py:111\u001B[0m, in \u001B[0;36mget_save\u001B[1;34m(m, n, person_data, character_data, id)\u001B[0m\n\u001B[0;32m    109\u001B[0m soup \u001B[38;5;241m=\u001B[39m BeautifulSoup(m, \u001B[38;5;124m\"\u001B[39m\u001B[38;5;124mhtml.parser\u001B[39m\u001B[38;5;124m\"\u001B[39m, from_encoding\u001B[38;5;241m=\u001B[39m\u001B[38;5;124m\"\u001B[39m\u001B[38;5;124mutf-8\u001B[39m\u001B[38;5;124m\"\u001B[39m)\n\u001B[0;32m    110\u001B[0m \u001B[38;5;28mprint\u001B[39m(soup\u001B[38;5;241m.\u001B[39mbody)\n\u001B[1;32m--> 111\u001B[0m extract\u001B[38;5;241m=\u001B[39m\u001B[43msoup\u001B[49m\u001B[38;5;241;43m.\u001B[39;49m\u001B[43mbody\u001B[49m\u001B[38;5;241;43m.\u001B[39;49m\u001B[43mdiv\u001B[49m\u001B[38;5;241m.\u001B[39mcontents[\u001B[38;5;241m7\u001B[39m]\u001B[38;5;241m.\u001B[39mcontents[\u001B[38;5;241m0\u001B[39m]\u001B[38;5;241m.\u001B[39mcontents[\u001B[38;5;241m3\u001B[39m]\u001B[38;5;241m.\u001B[39mcontents[\u001B[38;5;241m1\u001B[39m]\u001B[38;5;241m.\u001B[39mcontents[\u001B[38;5;241m1\u001B[39m]\u001B[38;5;241m.\u001B[39mcontents[\u001B[38;5;241m1\u001B[39m]\u001B[38;5;241m.\u001B[39mcontents[\u001B[38;5;241m15\u001B[39m]\u001B[38;5;241m.\u001B[39mcontents\n\u001B[0;32m    112\u001B[0m extract1 \u001B[38;5;241m=\u001B[39m soup\u001B[38;5;241m.\u001B[39mbody\u001B[38;5;241m.\u001B[39mdiv\u001B[38;5;241m.\u001B[39mcontents[\u001B[38;5;241m7\u001B[39m]\u001B[38;5;241m.\u001B[39mcontents[\u001B[38;5;241m0\u001B[39m]\u001B[38;5;241m.\u001B[39mcontents[\u001B[38;5;241m3\u001B[39m]\u001B[38;5;241m.\u001B[39mcontents[\u001B[38;5;241m1\u001B[39m]\u001B[38;5;241m.\u001B[39mcontents[\u001B[38;5;241m1\u001B[39m]\u001B[38;5;241m.\u001B[39mcontents[\u001B[38;5;241m1\u001B[39m]\u001B[38;5;241m.\u001B[39mcontents[\n\u001B[0;32m    113\u001B[0m     \u001B[38;5;241m7\u001B[39m]\u001B[38;5;241m.\u001B[39mget_text()\u001B[38;5;241m.\u001B[39msplit()\n\u001B[0;32m    114\u001B[0m \u001B[38;5;28;01mfor\u001B[39;00m x \u001B[38;5;129;01min\u001B[39;00m \u001B[38;5;28mrange\u001B[39m(\u001B[38;5;28mlen\u001B[39m(extract)):\n",
      "\u001B[1;31mAttributeError\u001B[0m: 'NoneType' object has no attribute 'div'"
     ]
    }
   ],
   "execution_count": 3
  },
  {
   "metadata": {
    "ExecuteTime": {
     "end_time": "2024-08-08T02:55:15.637676Z",
     "start_time": "2024-08-08T02:55:15.633872Z"
    }
   },
   "cell_type": "code",
   "source": "main.cartoon_data[m]['ep']",
   "id": "a20a3096858cb04f",
   "outputs": [
    {
     "data": {
      "text/plain": [
       "[['暴风龙维鲁多拉', '2018-10-01', '00:23:40', '(+119)'],\n",
       " ['与哥布林们的邂逅', '2018-10-08', '00:23:40', '(+72)'],\n",
       " ['哥布林村的战斗', '2018-10-15', '00:23:40', '(+89)'],\n",
       " ['在矮人王国', '2018-10-22', '00:23:40', '(+70)'],\n",
       " ['英雄王加泽尔·多瓦格', '2018-10-29', '00:23:40', '(+67)'],\n",
       " ['静', '2018-11-05', '00:23:40', '(+69)'],\n",
       " ['爆炎支配者', '2018-11-12', '00:23:40', '(+72)'],\n",
       " ['继承的愿望', '2018-11-19', '00:23:40', '(+82)'],\n",
       " ['大鬼族的袭击', '2018-11-26', '00:23:40', '(+57)'],\n",
       " ['猪头帝', '2018-12-03', '00:23:40', '(+59)'],\n",
       " ['加维尔前来拜见！', '2018-12-10', '00:23:40', '(+48)'],\n",
       " ['错乱的齿轮', '2018-12-17', '00:23:40', '(+45)'],\n",
       " ['大激战', '2018-12-24', '00:23:40', '(+64)'],\n",
       " ['吞噬一切之人', '2019-01-07', '00:23:40', '(+55)'],\n",
       " ['鸠拉森林大同盟', '2019-01-14', '00:23:40', '(+70)'],\n",
       " ['魔王米莉姆来袭', '2019-01-21', '00:23:40', '(+61)'],\n",
       " ['集结的人们', '2019-01-28', '00:23:40', '(+47)'],\n",
       " ['悄悄逼近的恶意', '2019-02-04', '00:23:40', '(+25)'],\n",
       " ['暴风大妖涡', '2019-02-11', '00:23:40', '(+44)'],\n",
       " ['优树・神乐坂', '2019-02-18', '00:23:40', '(+41)'],\n",
       " ['静小姐的学生们', '2019-02-25', '00:23:40', '(+40)'],\n",
       " ['迷宫攻略', '2019-03-04', '00:23:40', '(+37)'],\n",
       " ['灵魂的救赎', '2019-03-11', '00:23:40', '(+50)'],\n",
       " ['外传：黑与假面', '2019-03-18', '00:23:50', '(+41)'],\n",
       " ['闲话：维鲁德拉日记', '2019-03-25', '00:23:45', '(+19)']]"
      ]
     },
     "execution_count": 8,
     "metadata": {},
     "output_type": "execute_result"
    }
   ],
   "execution_count": 8
  },
  {
   "metadata": {
    "ExecuteTime": {
     "end_time": "2024-08-08T03:09:58.158930Z",
     "start_time": "2024-08-08T03:09:57.750334Z"
    }
   },
   "cell_type": "code",
   "source": "main.to_csv()",
   "id": "b778b1308dea05f9",
   "outputs": [
    {
     "ename": "OverflowError",
     "evalue": "mktime argument out of range",
     "output_type": "error",
     "traceback": [
      "\u001B[1;31m---------------------------------------------------------------------------\u001B[0m",
      "\u001B[1;31mOverflowError\u001B[0m                             Traceback (most recent call last)",
      "Cell \u001B[1;32mIn[4], line 1\u001B[0m\n\u001B[1;32m----> 1\u001B[0m \u001B[43mmain\u001B[49m\u001B[38;5;241;43m.\u001B[39;49m\u001B[43mto_csv\u001B[49m\u001B[43m(\u001B[49m\u001B[43m)\u001B[49m\n",
      "File \u001B[1;32m~\\Desktop\\爬虫\\bangumi下载\\main.py:175\u001B[0m, in \u001B[0;36mto_csv\u001B[1;34m()\u001B[0m\n\u001B[0;32m    173\u001B[0m x\u001B[38;5;241m=\u001B[39mx[:\u001B[38;5;241m-\u001B[39m\u001B[38;5;241m1\u001B[39m]\u001B[38;5;241m+\u001B[39m[cartoon_data[\u001B[38;5;28mid\u001B[39m][\u001B[38;5;124m'\u001B[39m\u001B[38;5;124m放送开始\u001B[39m\u001B[38;5;124m'\u001B[39m],cartoon_data[\u001B[38;5;28mid\u001B[39m][\u001B[38;5;124m'\u001B[39m\u001B[38;5;124m播放结束\u001B[39m\u001B[38;5;124m'\u001B[39m],cartoon_data[\u001B[38;5;28mid\u001B[39m][\u001B[38;5;124m'\u001B[39m\u001B[38;5;124m话数\u001B[39m\u001B[38;5;124m'\u001B[39m]]\n\u001B[0;32m    174\u001B[0m time_avg_1\u001B[38;5;241m=\u001B[39mit(cartoon_data[\u001B[38;5;28mid\u001B[39m][\u001B[38;5;124m'\u001B[39m\u001B[38;5;124mep\u001B[39m\u001B[38;5;124m'\u001B[39m][:\u001B[38;5;28mint\u001B[39m(cartoon_data[\u001B[38;5;28mid\u001B[39m][\u001B[38;5;124m'\u001B[39m\u001B[38;5;124m话数\u001B[39m\u001B[38;5;124m'\u001B[39m])])\u001B[38;5;241m.\u001B[39mmap(\u001B[38;5;28;01mlambda\u001B[39;00m x: time\u001B[38;5;241m.\u001B[39mmktime(time\u001B[38;5;241m.\u001B[39mstrptime(x[\u001B[38;5;241m2\u001B[39m],\u001B[38;5;124m\"\u001B[39m\u001B[38;5;124m%\u001B[39m\u001B[38;5;124mH:\u001B[39m\u001B[38;5;124m%\u001B[39m\u001B[38;5;124mM:\u001B[39m\u001B[38;5;124m%\u001B[39m\u001B[38;5;124mS\u001B[39m\u001B[38;5;124m\"\u001B[39m)))\n\u001B[1;32m--> 175\u001B[0m \u001B[38;5;28;43mprint\u001B[39;49m\u001B[43m(\u001B[49m\u001B[43mtime_avg_1\u001B[49m\u001B[43m)\u001B[49m\n\u001B[0;32m    176\u001B[0m time_avg_2\u001B[38;5;241m=\u001B[39m\u001B[38;5;28msum\u001B[39m(time_avg_1)\u001B[38;5;241m/\u001B[39m\u001B[38;5;28mlen\u001B[39m(\u001B[38;5;28mlist\u001B[39m(time_avg_1))\n\u001B[0;32m    177\u001B[0m x\u001B[38;5;241m.\u001B[39mappend(time_avg_2)\n",
      "File \u001B[1;32m~\\Desktop\\实习\\nl2sql\\.venv\\Lib\\site-packages\\pyiter\\sequence.py:2628\u001B[0m, in \u001B[0;36mSequence.__repr__\u001B[1;34m(self)\u001B[0m\n\u001B[0;32m   2627\u001B[0m \u001B[38;5;28;01mdef\u001B[39;00m \u001B[38;5;21m__repr__\u001B[39m(\u001B[38;5;28mself\u001B[39m):\n\u001B[1;32m-> 2628\u001B[0m     \u001B[38;5;28;01mreturn\u001B[39;00m \u001B[38;5;28mrepr\u001B[39m(\u001B[38;5;28;43mself\u001B[39;49m\u001B[38;5;241;43m.\u001B[39;49m\u001B[43mto_list\u001B[49m\u001B[43m(\u001B[49m\u001B[43m)\u001B[49m)\n",
      "File \u001B[1;32m~\\Desktop\\实习\\nl2sql\\.venv\\Lib\\site-packages\\pyiter\\sequence.py:2562\u001B[0m, in \u001B[0;36mSequence.to_list\u001B[1;34m(self)\u001B[0m\n\u001B[0;32m   2554\u001B[0m \u001B[38;5;28;01mdef\u001B[39;00m \u001B[38;5;21mto_list\u001B[39m(\u001B[38;5;28mself\u001B[39m) \u001B[38;5;241m-\u001B[39m\u001B[38;5;241m>\u001B[39m List[T]:\n\u001B[0;32m   2555\u001B[0m \u001B[38;5;250m    \u001B[39m\u001B[38;5;124;03m\"\"\"\u001B[39;00m\n\u001B[0;32m   2556\u001B[0m \u001B[38;5;124;03m    Returns a list with elements of the given Sequence.\u001B[39;00m\n\u001B[0;32m   2557\u001B[0m \n\u001B[1;32m   (...)\u001B[0m\n\u001B[0;32m   2560\u001B[0m \u001B[38;5;124;03m    ['b', 'c', 'a']\u001B[39;00m\n\u001B[0;32m   2561\u001B[0m \u001B[38;5;124;03m    \"\"\"\u001B[39;00m\n\u001B[1;32m-> 2562\u001B[0m     \u001B[38;5;28;01mreturn\u001B[39;00m \u001B[38;5;28;43mlist\u001B[39;49m\u001B[43m(\u001B[49m\u001B[38;5;28;43mself\u001B[39;49m\u001B[43m)\u001B[49m\n",
      "File \u001B[1;32m~\\Desktop\\实习\\nl2sql\\.venv\\Lib\\site-packages\\pyiter\\sequence.py:2625\u001B[0m, in \u001B[0;36mSequence.__len__\u001B[1;34m(self)\u001B[0m\n\u001B[0;32m   2624\u001B[0m \u001B[38;5;28;01mdef\u001B[39;00m \u001B[38;5;21m__len__\u001B[39m(\u001B[38;5;28mself\u001B[39m):\n\u001B[1;32m-> 2625\u001B[0m     \u001B[38;5;28;01mreturn\u001B[39;00m \u001B[38;5;28;43mlen\u001B[39;49m\u001B[43m(\u001B[49m\u001B[38;5;28;43mself\u001B[39;49m\u001B[38;5;241;43m.\u001B[39;49m\u001B[43m_iter\u001B[49m\u001B[43m)\u001B[49m\n",
      "File \u001B[1;32m~\\Desktop\\实习\\nl2sql\\.venv\\Lib\\site-packages\\pyiter\\sequence.py:2709\u001B[0m, in \u001B[0;36mSequenceTransform.__len__\u001B[1;34m(self)\u001B[0m\n\u001B[0;32m   2707\u001B[0m cache \u001B[38;5;241m=\u001B[39m \u001B[38;5;28mself\u001B[39m\u001B[38;5;241m.\u001B[39m_cache\n\u001B[0;32m   2708\u001B[0m \u001B[38;5;28;01mif\u001B[39;00m cache \u001B[38;5;129;01mis\u001B[39;00m \u001B[38;5;28;01mNone\u001B[39;00m:\n\u001B[1;32m-> 2709\u001B[0m \u001B[43m    \u001B[49m\u001B[38;5;28;43;01mfor\u001B[39;49;00m\u001B[43m \u001B[49m\u001B[43m_\u001B[49m\u001B[43m \u001B[49m\u001B[38;5;129;43;01min\u001B[39;49;00m\u001B[43m \u001B[49m\u001B[38;5;28;43mself\u001B[39;49m\u001B[43m:\u001B[49m\n\u001B[0;32m   2710\u001B[0m \u001B[43m        \u001B[49m\u001B[38;5;28;43;01mpass\u001B[39;49;00m\n\u001B[0;32m   2711\u001B[0m     cache \u001B[38;5;241m=\u001B[39m \u001B[38;5;28mself\u001B[39m\u001B[38;5;241m.\u001B[39m_cache\n",
      "File \u001B[1;32m~\\Desktop\\实习\\nl2sql\\.venv\\Lib\\site-packages\\pyiter\\sequence.py:2690\u001B[0m, in \u001B[0;36mSequenceTransform.__iter__\u001B[1;34m(self)\u001B[0m\n\u001B[0;32m   2688\u001B[0m \u001B[38;5;28;01melse\u001B[39;00m:\n\u001B[0;32m   2689\u001B[0m     cache: List[T] \u001B[38;5;241m=\u001B[39m []\n\u001B[1;32m-> 2690\u001B[0m \u001B[43m    \u001B[49m\u001B[38;5;28;43;01mfor\u001B[39;49;00m\u001B[43m \u001B[49m\u001B[43mx\u001B[49m\u001B[43m \u001B[49m\u001B[38;5;129;43;01min\u001B[39;49;00m\u001B[43m \u001B[49m\u001B[38;5;28;43mself\u001B[39;49m\u001B[38;5;241;43m.\u001B[39;49m\u001B[43m__do_iter__\u001B[49m\u001B[43m(\u001B[49m\u001B[43m)\u001B[49m\u001B[43m:\u001B[49m\n\u001B[0;32m   2691\u001B[0m \u001B[43m        \u001B[49m\u001B[43mcache\u001B[49m\u001B[38;5;241;43m.\u001B[39;49m\u001B[43mappend\u001B[49m\u001B[43m(\u001B[49m\u001B[43mx\u001B[49m\u001B[43m)\u001B[49m\n\u001B[0;32m   2692\u001B[0m \u001B[43m        \u001B[49m\u001B[38;5;28;43;01myield\u001B[39;49;00m\u001B[43m \u001B[49m\u001B[43mx\u001B[49m\n",
      "File \u001B[1;32m~\\Desktop\\实习\\nl2sql\\.venv\\Lib\\site-packages\\pyiter\\sequence.py:2696\u001B[0m, in \u001B[0;36mSequenceTransform.__do_iter__\u001B[1;34m(self)\u001B[0m\n\u001B[0;32m   2695\u001B[0m \u001B[38;5;28;01mdef\u001B[39;00m \u001B[38;5;21m__do_iter__\u001B[39m(\u001B[38;5;28mself\u001B[39m) \u001B[38;5;241m-\u001B[39m\u001B[38;5;241m>\u001B[39m Iterator[T] :\n\u001B[1;32m-> 2696\u001B[0m     \u001B[38;5;28;01myield from\u001B[39;00m \u001B[38;5;28mself\u001B[39m\u001B[38;5;241m.\u001B[39m_iter\n",
      "File \u001B[1;32m~\\Desktop\\实习\\nl2sql\\.venv\\Lib\\site-packages\\pyiter\\sequence.py:2690\u001B[0m, in \u001B[0;36mSequenceTransform.__iter__\u001B[1;34m(self)\u001B[0m\n\u001B[0;32m   2688\u001B[0m \u001B[38;5;28;01melse\u001B[39;00m:\n\u001B[0;32m   2689\u001B[0m     cache: List[T] \u001B[38;5;241m=\u001B[39m []\n\u001B[1;32m-> 2690\u001B[0m \u001B[43m    \u001B[49m\u001B[38;5;28;43;01mfor\u001B[39;49;00m\u001B[43m \u001B[49m\u001B[43mx\u001B[49m\u001B[43m \u001B[49m\u001B[38;5;129;43;01min\u001B[39;49;00m\u001B[43m \u001B[49m\u001B[38;5;28;43mself\u001B[39;49m\u001B[38;5;241;43m.\u001B[39;49m\u001B[43m__do_iter__\u001B[49m\u001B[43m(\u001B[49m\u001B[43m)\u001B[49m\u001B[43m:\u001B[49m\n\u001B[0;32m   2691\u001B[0m \u001B[43m        \u001B[49m\u001B[43mcache\u001B[49m\u001B[38;5;241;43m.\u001B[39;49m\u001B[43mappend\u001B[49m\u001B[43m(\u001B[49m\u001B[43mx\u001B[49m\u001B[43m)\u001B[49m\n\u001B[0;32m   2692\u001B[0m \u001B[43m        \u001B[49m\u001B[38;5;28;43;01myield\u001B[39;49;00m\u001B[43m \u001B[49m\u001B[43mx\u001B[49m\n",
      "File \u001B[1;32m~\\Desktop\\实习\\nl2sql\\.venv\\Lib\\site-packages\\pyiter\\sequence.py:2738\u001B[0m, in \u001B[0;36mMappingTransform.__do_iter__\u001B[1;34m(self)\u001B[0m\n\u001B[0;32m   2736\u001B[0m \u001B[38;5;28;01mdef\u001B[39;00m \u001B[38;5;21m__do_iter__\u001B[39m(\u001B[38;5;28mself\u001B[39m) \u001B[38;5;241m-\u001B[39m\u001B[38;5;241m>\u001B[39m Iterator[R]:\n\u001B[0;32m   2737\u001B[0m     \u001B[38;5;28;01mfor\u001B[39;00m i \u001B[38;5;129;01min\u001B[39;00m \u001B[38;5;28mself\u001B[39m\u001B[38;5;241m.\u001B[39m_iter:\n\u001B[1;32m-> 2738\u001B[0m         \u001B[38;5;28;01myield\u001B[39;00m \u001B[38;5;28;43mself\u001B[39;49m\u001B[38;5;241;43m.\u001B[39;49m\u001B[43m_transform\u001B[49m\u001B[43m(\u001B[49m\u001B[43mi\u001B[49m\u001B[43m)\u001B[49m\n",
      "File \u001B[1;32m~\\Desktop\\爬虫\\bangumi下载\\main.py:174\u001B[0m, in \u001B[0;36mto_csv.<locals>.<lambda>\u001B[1;34m(x)\u001B[0m\n\u001B[0;32m    172\u001B[0m \u001B[38;5;28mid\u001B[39m\u001B[38;5;241m=\u001B[39m\u001B[38;5;28mstr\u001B[39m(x[\u001B[38;5;241m-\u001B[39m\u001B[38;5;241m1\u001B[39m])\n\u001B[0;32m    173\u001B[0m x\u001B[38;5;241m=\u001B[39mx[:\u001B[38;5;241m-\u001B[39m\u001B[38;5;241m1\u001B[39m]\u001B[38;5;241m+\u001B[39m[cartoon_data[\u001B[38;5;28mid\u001B[39m][\u001B[38;5;124m'\u001B[39m\u001B[38;5;124m放送开始\u001B[39m\u001B[38;5;124m'\u001B[39m],cartoon_data[\u001B[38;5;28mid\u001B[39m][\u001B[38;5;124m'\u001B[39m\u001B[38;5;124m播放结束\u001B[39m\u001B[38;5;124m'\u001B[39m],cartoon_data[\u001B[38;5;28mid\u001B[39m][\u001B[38;5;124m'\u001B[39m\u001B[38;5;124m话数\u001B[39m\u001B[38;5;124m'\u001B[39m]]\n\u001B[1;32m--> 174\u001B[0m time_avg_1\u001B[38;5;241m=\u001B[39mit(cartoon_data[\u001B[38;5;28mid\u001B[39m][\u001B[38;5;124m'\u001B[39m\u001B[38;5;124mep\u001B[39m\u001B[38;5;124m'\u001B[39m][:\u001B[38;5;28mint\u001B[39m(cartoon_data[\u001B[38;5;28mid\u001B[39m][\u001B[38;5;124m'\u001B[39m\u001B[38;5;124m话数\u001B[39m\u001B[38;5;124m'\u001B[39m])])\u001B[38;5;241m.\u001B[39mmap(\u001B[38;5;28;01mlambda\u001B[39;00m x: \u001B[43mtime\u001B[49m\u001B[38;5;241;43m.\u001B[39;49m\u001B[43mmktime\u001B[49m\u001B[43m(\u001B[49m\u001B[43mtime\u001B[49m\u001B[38;5;241;43m.\u001B[39;49m\u001B[43mstrptime\u001B[49m\u001B[43m(\u001B[49m\u001B[43mx\u001B[49m\u001B[43m[\u001B[49m\u001B[38;5;241;43m2\u001B[39;49m\u001B[43m]\u001B[49m\u001B[43m,\u001B[49m\u001B[38;5;124;43m\"\u001B[39;49m\u001B[38;5;124;43m%\u001B[39;49m\u001B[38;5;124;43mH:\u001B[39;49m\u001B[38;5;124;43m%\u001B[39;49m\u001B[38;5;124;43mM:\u001B[39;49m\u001B[38;5;124;43m%\u001B[39;49m\u001B[38;5;124;43mS\u001B[39;49m\u001B[38;5;124;43m\"\u001B[39;49m\u001B[43m)\u001B[49m\u001B[43m)\u001B[49m)\n\u001B[0;32m    175\u001B[0m \u001B[38;5;28mprint\u001B[39m(time_avg_1)\n\u001B[0;32m    176\u001B[0m time_avg_2\u001B[38;5;241m=\u001B[39m\u001B[38;5;28msum\u001B[39m(time_avg_1)\u001B[38;5;241m/\u001B[39m\u001B[38;5;28mlen\u001B[39m(\u001B[38;5;28mlist\u001B[39m(time_avg_1))\n",
      "\u001B[1;31mOverflowError\u001B[0m: mktime argument out of range"
     ]
    }
   ],
   "execution_count": 4
  },
  {
   "metadata": {
    "ExecuteTime": {
     "end_time": "2024-08-08T06:55:01.678752Z",
     "start_time": "2024-08-08T06:54:56.107874Z"
    }
   },
   "cell_type": "code",
   "source": "main.isexist_data2()",
   "id": "8573cf7e5a0441be",
   "outputs": [
    {
     "name": "stdout",
     "output_type": "stream",
     "text": [
      "timed out\n"
     ]
    },
    {
     "ename": "AttributeError",
     "evalue": "'tuple' object has no attribute 'tb_frame'",
     "output_type": "error",
     "traceback": [
      "\u001B[1;31m---------------------------------------------------------------------------\u001B[0m",
      "\u001B[1;31mTimeoutError\u001B[0m                              Traceback (most recent call last)",
      "File \u001B[1;32m~\\Desktop\\爬虫\\bangumi下载\\爬虫.py:59\u001B[0m, in \u001B[0;36mdown_pic_usual\u001B[1;34m(m, n)\u001B[0m\n\u001B[0;32m     58\u001B[0m     request \u001B[38;5;241m=\u001B[39m urllib\u001B[38;5;241m.\u001B[39mrequest\u001B[38;5;241m.\u001B[39mRequest(\u001B[38;5;124m\"\u001B[39m\u001B[38;5;124mhttp:\u001B[39m\u001B[38;5;124m\"\u001B[39m \u001B[38;5;241m+\u001B[39m m, headers\u001B[38;5;241m=\u001B[39mheaders)\n\u001B[1;32m---> 59\u001B[0m     f\u001B[38;5;241m.\u001B[39mwrite(\u001B[43murllib\u001B[49m\u001B[38;5;241;43m.\u001B[39;49m\u001B[43mrequest\u001B[49m\u001B[38;5;241;43m.\u001B[39;49m\u001B[43murlopen\u001B[49m\u001B[43m(\u001B[49m\u001B[43mrequest\u001B[49m\u001B[43m,\u001B[49m\u001B[43m \u001B[49m\u001B[43mtimeout\u001B[49m\u001B[38;5;241;43m=\u001B[39;49m\u001B[38;5;241;43m5\u001B[39;49m\u001B[43m)\u001B[49m\u001B[38;5;241m.\u001B[39mread())\n\u001B[0;32m     60\u001B[0m \u001B[38;5;28;01mexcept\u001B[39;00m urllib\u001B[38;5;241m.\u001B[39merror\u001B[38;5;241m.\u001B[39mHTTPError:\n",
      "File \u001B[1;32m~\\AppData\\Local\\Programs\\Python\\Python312\\Lib\\urllib\\request.py:215\u001B[0m, in \u001B[0;36murlopen\u001B[1;34m(url, data, timeout, cafile, capath, cadefault, context)\u001B[0m\n\u001B[0;32m    214\u001B[0m     opener \u001B[38;5;241m=\u001B[39m _opener\n\u001B[1;32m--> 215\u001B[0m \u001B[38;5;28;01mreturn\u001B[39;00m \u001B[43mopener\u001B[49m\u001B[38;5;241;43m.\u001B[39;49m\u001B[43mopen\u001B[49m\u001B[43m(\u001B[49m\u001B[43murl\u001B[49m\u001B[43m,\u001B[49m\u001B[43m \u001B[49m\u001B[43mdata\u001B[49m\u001B[43m,\u001B[49m\u001B[43m \u001B[49m\u001B[43mtimeout\u001B[49m\u001B[43m)\u001B[49m\n",
      "File \u001B[1;32m~\\AppData\\Local\\Programs\\Python\\Python312\\Lib\\urllib\\request.py:515\u001B[0m, in \u001B[0;36mOpenerDirector.open\u001B[1;34m(self, fullurl, data, timeout)\u001B[0m\n\u001B[0;32m    514\u001B[0m sys\u001B[38;5;241m.\u001B[39maudit(\u001B[38;5;124m'\u001B[39m\u001B[38;5;124murllib.Request\u001B[39m\u001B[38;5;124m'\u001B[39m, req\u001B[38;5;241m.\u001B[39mfull_url, req\u001B[38;5;241m.\u001B[39mdata, req\u001B[38;5;241m.\u001B[39mheaders, req\u001B[38;5;241m.\u001B[39mget_method())\n\u001B[1;32m--> 515\u001B[0m response \u001B[38;5;241m=\u001B[39m \u001B[38;5;28;43mself\u001B[39;49m\u001B[38;5;241;43m.\u001B[39;49m\u001B[43m_open\u001B[49m\u001B[43m(\u001B[49m\u001B[43mreq\u001B[49m\u001B[43m,\u001B[49m\u001B[43m \u001B[49m\u001B[43mdata\u001B[49m\u001B[43m)\u001B[49m\n\u001B[0;32m    517\u001B[0m \u001B[38;5;66;03m# post-process response\u001B[39;00m\n",
      "File \u001B[1;32m~\\AppData\\Local\\Programs\\Python\\Python312\\Lib\\urllib\\request.py:532\u001B[0m, in \u001B[0;36mOpenerDirector._open\u001B[1;34m(self, req, data)\u001B[0m\n\u001B[0;32m    531\u001B[0m protocol \u001B[38;5;241m=\u001B[39m req\u001B[38;5;241m.\u001B[39mtype\n\u001B[1;32m--> 532\u001B[0m result \u001B[38;5;241m=\u001B[39m \u001B[38;5;28;43mself\u001B[39;49m\u001B[38;5;241;43m.\u001B[39;49m\u001B[43m_call_chain\u001B[49m\u001B[43m(\u001B[49m\u001B[38;5;28;43mself\u001B[39;49m\u001B[38;5;241;43m.\u001B[39;49m\u001B[43mhandle_open\u001B[49m\u001B[43m,\u001B[49m\u001B[43m \u001B[49m\u001B[43mprotocol\u001B[49m\u001B[43m,\u001B[49m\u001B[43m \u001B[49m\u001B[43mprotocol\u001B[49m\u001B[43m \u001B[49m\u001B[38;5;241;43m+\u001B[39;49m\n\u001B[0;32m    533\u001B[0m \u001B[43m                          \u001B[49m\u001B[38;5;124;43m'\u001B[39;49m\u001B[38;5;124;43m_open\u001B[39;49m\u001B[38;5;124;43m'\u001B[39;49m\u001B[43m,\u001B[49m\u001B[43m \u001B[49m\u001B[43mreq\u001B[49m\u001B[43m)\u001B[49m\n\u001B[0;32m    534\u001B[0m \u001B[38;5;28;01mif\u001B[39;00m result:\n",
      "File \u001B[1;32m~\\AppData\\Local\\Programs\\Python\\Python312\\Lib\\urllib\\request.py:492\u001B[0m, in \u001B[0;36mOpenerDirector._call_chain\u001B[1;34m(self, chain, kind, meth_name, *args)\u001B[0m\n\u001B[0;32m    491\u001B[0m func \u001B[38;5;241m=\u001B[39m \u001B[38;5;28mgetattr\u001B[39m(handler, meth_name)\n\u001B[1;32m--> 492\u001B[0m result \u001B[38;5;241m=\u001B[39m \u001B[43mfunc\u001B[49m\u001B[43m(\u001B[49m\u001B[38;5;241;43m*\u001B[39;49m\u001B[43margs\u001B[49m\u001B[43m)\u001B[49m\n\u001B[0;32m    493\u001B[0m \u001B[38;5;28;01mif\u001B[39;00m result \u001B[38;5;129;01mis\u001B[39;00m \u001B[38;5;129;01mnot\u001B[39;00m \u001B[38;5;28;01mNone\u001B[39;00m:\n",
      "File \u001B[1;32m~\\AppData\\Local\\Programs\\Python\\Python312\\Lib\\urllib\\request.py:1373\u001B[0m, in \u001B[0;36mHTTPHandler.http_open\u001B[1;34m(self, req)\u001B[0m\n\u001B[0;32m   1372\u001B[0m \u001B[38;5;28;01mdef\u001B[39;00m \u001B[38;5;21mhttp_open\u001B[39m(\u001B[38;5;28mself\u001B[39m, req):\n\u001B[1;32m-> 1373\u001B[0m     \u001B[38;5;28;01mreturn\u001B[39;00m \u001B[38;5;28;43mself\u001B[39;49m\u001B[38;5;241;43m.\u001B[39;49m\u001B[43mdo_open\u001B[49m\u001B[43m(\u001B[49m\u001B[43mhttp\u001B[49m\u001B[38;5;241;43m.\u001B[39;49m\u001B[43mclient\u001B[49m\u001B[38;5;241;43m.\u001B[39;49m\u001B[43mHTTPConnection\u001B[49m\u001B[43m,\u001B[49m\u001B[43m \u001B[49m\u001B[43mreq\u001B[49m\u001B[43m)\u001B[49m\n",
      "File \u001B[1;32m~\\AppData\\Local\\Programs\\Python\\Python312\\Lib\\urllib\\request.py:1348\u001B[0m, in \u001B[0;36mAbstractHTTPHandler.do_open\u001B[1;34m(self, http_class, req, **http_conn_args)\u001B[0m\n\u001B[0;32m   1347\u001B[0m         \u001B[38;5;28;01mraise\u001B[39;00m URLError(err)\n\u001B[1;32m-> 1348\u001B[0m     r \u001B[38;5;241m=\u001B[39m \u001B[43mh\u001B[49m\u001B[38;5;241;43m.\u001B[39;49m\u001B[43mgetresponse\u001B[49m\u001B[43m(\u001B[49m\u001B[43m)\u001B[49m\n\u001B[0;32m   1349\u001B[0m \u001B[38;5;28;01mexcept\u001B[39;00m:\n",
      "File \u001B[1;32m~\\AppData\\Local\\Programs\\Python\\Python312\\Lib\\http\\client.py:1428\u001B[0m, in \u001B[0;36mHTTPConnection.getresponse\u001B[1;34m(self)\u001B[0m\n\u001B[0;32m   1427\u001B[0m \u001B[38;5;28;01mtry\u001B[39;00m:\n\u001B[1;32m-> 1428\u001B[0m     \u001B[43mresponse\u001B[49m\u001B[38;5;241;43m.\u001B[39;49m\u001B[43mbegin\u001B[49m\u001B[43m(\u001B[49m\u001B[43m)\u001B[49m\n\u001B[0;32m   1429\u001B[0m \u001B[38;5;28;01mexcept\u001B[39;00m \u001B[38;5;167;01mConnectionError\u001B[39;00m:\n",
      "File \u001B[1;32m~\\AppData\\Local\\Programs\\Python\\Python312\\Lib\\http\\client.py:331\u001B[0m, in \u001B[0;36mHTTPResponse.begin\u001B[1;34m(self)\u001B[0m\n\u001B[0;32m    330\u001B[0m \u001B[38;5;28;01mwhile\u001B[39;00m \u001B[38;5;28;01mTrue\u001B[39;00m:\n\u001B[1;32m--> 331\u001B[0m     version, status, reason \u001B[38;5;241m=\u001B[39m \u001B[38;5;28;43mself\u001B[39;49m\u001B[38;5;241;43m.\u001B[39;49m\u001B[43m_read_status\u001B[49m\u001B[43m(\u001B[49m\u001B[43m)\u001B[49m\n\u001B[0;32m    332\u001B[0m     \u001B[38;5;28;01mif\u001B[39;00m status \u001B[38;5;241m!=\u001B[39m CONTINUE:\n",
      "File \u001B[1;32m~\\AppData\\Local\\Programs\\Python\\Python312\\Lib\\http\\client.py:292\u001B[0m, in \u001B[0;36mHTTPResponse._read_status\u001B[1;34m(self)\u001B[0m\n\u001B[0;32m    291\u001B[0m \u001B[38;5;28;01mdef\u001B[39;00m \u001B[38;5;21m_read_status\u001B[39m(\u001B[38;5;28mself\u001B[39m):\n\u001B[1;32m--> 292\u001B[0m     line \u001B[38;5;241m=\u001B[39m \u001B[38;5;28mstr\u001B[39m(\u001B[38;5;28;43mself\u001B[39;49m\u001B[38;5;241;43m.\u001B[39;49m\u001B[43mfp\u001B[49m\u001B[38;5;241;43m.\u001B[39;49m\u001B[43mreadline\u001B[49m\u001B[43m(\u001B[49m\u001B[43m_MAXLINE\u001B[49m\u001B[43m \u001B[49m\u001B[38;5;241;43m+\u001B[39;49m\u001B[43m \u001B[49m\u001B[38;5;241;43m1\u001B[39;49m\u001B[43m)\u001B[49m, \u001B[38;5;124m\"\u001B[39m\u001B[38;5;124miso-8859-1\u001B[39m\u001B[38;5;124m\"\u001B[39m)\n\u001B[0;32m    293\u001B[0m     \u001B[38;5;28;01mif\u001B[39;00m \u001B[38;5;28mlen\u001B[39m(line) \u001B[38;5;241m>\u001B[39m _MAXLINE:\n",
      "File \u001B[1;32m~\\AppData\\Local\\Programs\\Python\\Python312\\Lib\\socket.py:708\u001B[0m, in \u001B[0;36mSocketIO.readinto\u001B[1;34m(self, b)\u001B[0m\n\u001B[0;32m    707\u001B[0m \u001B[38;5;28;01mtry\u001B[39;00m:\n\u001B[1;32m--> 708\u001B[0m     \u001B[38;5;28;01mreturn\u001B[39;00m \u001B[38;5;28;43mself\u001B[39;49m\u001B[38;5;241;43m.\u001B[39;49m\u001B[43m_sock\u001B[49m\u001B[38;5;241;43m.\u001B[39;49m\u001B[43mrecv_into\u001B[49m\u001B[43m(\u001B[49m\u001B[43mb\u001B[49m\u001B[43m)\u001B[49m\n\u001B[0;32m    709\u001B[0m \u001B[38;5;28;01mexcept\u001B[39;00m timeout:\n",
      "\u001B[1;31mTimeoutError\u001B[0m: timed out",
      "\nDuring handling of the above exception, another exception occurred:\n",
      "\u001B[1;31mSystemExit\u001B[0m                                Traceback (most recent call last)",
      "    \u001B[1;31m[... skipping hidden 1 frame]\u001B[0m\n",
      "Cell \u001B[1;32mIn[3], line 1\u001B[0m\n\u001B[1;32m----> 1\u001B[0m \u001B[43mmain\u001B[49m\u001B[38;5;241;43m.\u001B[39;49m\u001B[43misexist_data2\u001B[49m\u001B[43m(\u001B[49m\u001B[43m)\u001B[49m\n",
      "File \u001B[1;32m~\\Desktop\\爬虫\\bangumi下载\\main.py:83\u001B[0m, in \u001B[0;36misexist_data2\u001B[1;34m()\u001B[0m\n\u001B[0;32m     82\u001B[0m \u001B[38;5;28;01mif\u001B[39;00m person_data[x][\u001B[38;5;124m'\u001B[39m\u001B[38;5;124mdownload\u001B[39m\u001B[38;5;124m'\u001B[39m]\u001B[38;5;241m==\u001B[39m\u001B[38;5;28;01mFalse\u001B[39;00m \u001B[38;5;129;01mand\u001B[39;00m person_data[x][\u001B[38;5;124m'\u001B[39m\u001B[38;5;124mimg\u001B[39m\u001B[38;5;124m'\u001B[39m]\u001B[38;5;241m!=\u001B[39m\u001B[38;5;28;01mNone\u001B[39;00m:\n\u001B[1;32m---> 83\u001B[0m     \u001B[38;5;28;01mif\u001B[39;00m \u001B[43mdown_pic_usual\u001B[49m\u001B[43m(\u001B[49m\u001B[43mperson_data\u001B[49m\u001B[43m[\u001B[49m\u001B[43mx\u001B[49m\u001B[43m]\u001B[49m\u001B[43m[\u001B[49m\u001B[38;5;124;43m'\u001B[39;49m\u001B[38;5;124;43mimg\u001B[39;49m\u001B[38;5;124;43m'\u001B[39;49m\u001B[43m]\u001B[49m\u001B[43m,\u001B[49m\u001B[43minit_menu\u001B[49m\u001B[38;5;241;43m+\u001B[39;49m\u001B[38;5;124;43m'\u001B[39;49m\u001B[38;5;124;43msave/total_img/person/\u001B[39;49m\u001B[38;5;124;43m'\u001B[39;49m\u001B[38;5;241;43m+\u001B[39;49m\u001B[38;5;28;43mstr\u001B[39;49m\u001B[43m(\u001B[49m\u001B[43mx\u001B[49m\u001B[43m)\u001B[49m\u001B[38;5;241;43m+\u001B[39;49m\u001B[38;5;124;43m'\u001B[39;49m\u001B[38;5;124;43m.jpg\u001B[39;49m\u001B[38;5;124;43m'\u001B[39;49m\u001B[43m)\u001B[49m\u001B[38;5;241m==\u001B[39m\u001B[38;5;28;01mFalse\u001B[39;00m:\n\u001B[0;32m     84\u001B[0m         person_data[x][\u001B[38;5;124m'\u001B[39m\u001B[38;5;124mimg\u001B[39m\u001B[38;5;124m'\u001B[39m]\u001B[38;5;241m=\u001B[39m\u001B[38;5;28;01mNone\u001B[39;00m\n",
      "File \u001B[1;32m~\\Desktop\\爬虫\\bangumi下载\\爬虫.py:65\u001B[0m, in \u001B[0;36mdown_pic_usual\u001B[1;34m(m, n)\u001B[0m\n\u001B[0;32m     64\u001B[0m     \u001B[38;5;28mprint\u001B[39m(e)\n\u001B[1;32m---> 65\u001B[0m     \u001B[43msys\u001B[49m\u001B[38;5;241;43m.\u001B[39;49m\u001B[43mexit\u001B[49m\u001B[43m(\u001B[49m\u001B[43m)\u001B[49m\n\u001B[0;32m     66\u001B[0m \u001B[38;5;28;01mreturn\u001B[39;00m \u001B[38;5;28;01mTrue\u001B[39;00m\n",
      "\u001B[1;31mSystemExit\u001B[0m: ",
      "\nDuring handling of the above exception, another exception occurred:\n",
      "\u001B[1;31mAttributeError\u001B[0m                            Traceback (most recent call last)",
      "    \u001B[1;31m[... skipping hidden 1 frame]\u001B[0m\n",
      "File \u001B[1;32m~\\Desktop\\实习\\nl2sql\\.venv\\Lib\\site-packages\\IPython\\core\\interactiveshell.py:2145\u001B[0m, in \u001B[0;36mInteractiveShell.showtraceback\u001B[1;34m(self, exc_tuple, filename, tb_offset, exception_only, running_compiled_code)\u001B[0m\n\u001B[0;32m   2142\u001B[0m \u001B[38;5;28;01mif\u001B[39;00m exception_only:\n\u001B[0;32m   2143\u001B[0m     stb \u001B[38;5;241m=\u001B[39m [\u001B[38;5;124m'\u001B[39m\u001B[38;5;124mAn exception has occurred, use \u001B[39m\u001B[38;5;124m%\u001B[39m\u001B[38;5;124mtb to see \u001B[39m\u001B[38;5;124m'\u001B[39m\n\u001B[0;32m   2144\u001B[0m            \u001B[38;5;124m'\u001B[39m\u001B[38;5;124mthe full traceback.\u001B[39m\u001B[38;5;130;01m\\n\u001B[39;00m\u001B[38;5;124m'\u001B[39m]\n\u001B[1;32m-> 2145\u001B[0m     stb\u001B[38;5;241m.\u001B[39mextend(\u001B[38;5;28;43mself\u001B[39;49m\u001B[38;5;241;43m.\u001B[39;49m\u001B[43mInteractiveTB\u001B[49m\u001B[38;5;241;43m.\u001B[39;49m\u001B[43mget_exception_only\u001B[49m\u001B[43m(\u001B[49m\u001B[43metype\u001B[49m\u001B[43m,\u001B[49m\n\u001B[0;32m   2146\u001B[0m \u001B[43m                                                     \u001B[49m\u001B[43mvalue\u001B[49m\u001B[43m)\u001B[49m)\n\u001B[0;32m   2147\u001B[0m \u001B[38;5;28;01melse\u001B[39;00m:\n\u001B[0;32m   2149\u001B[0m     \u001B[38;5;28;01mdef\u001B[39;00m \u001B[38;5;21mcontains_exceptiongroup\u001B[39m(val):\n",
      "File \u001B[1;32m~\\Desktop\\实习\\nl2sql\\.venv\\Lib\\site-packages\\IPython\\core\\ultratb.py:710\u001B[0m, in \u001B[0;36mListTB.get_exception_only\u001B[1;34m(self, etype, value)\u001B[0m\n\u001B[0;32m    702\u001B[0m \u001B[38;5;28;01mdef\u001B[39;00m \u001B[38;5;21mget_exception_only\u001B[39m(\u001B[38;5;28mself\u001B[39m, etype, value):\n\u001B[0;32m    703\u001B[0m \u001B[38;5;250m    \u001B[39m\u001B[38;5;124;03m\"\"\"Only print the exception type and message, without a traceback.\u001B[39;00m\n\u001B[0;32m    704\u001B[0m \n\u001B[0;32m    705\u001B[0m \u001B[38;5;124;03m    Parameters\u001B[39;00m\n\u001B[1;32m   (...)\u001B[0m\n\u001B[0;32m    708\u001B[0m \u001B[38;5;124;03m    value : exception value\u001B[39;00m\n\u001B[0;32m    709\u001B[0m \u001B[38;5;124;03m    \"\"\"\u001B[39;00m\n\u001B[1;32m--> 710\u001B[0m     \u001B[38;5;28;01mreturn\u001B[39;00m \u001B[43mListTB\u001B[49m\u001B[38;5;241;43m.\u001B[39;49m\u001B[43mstructured_traceback\u001B[49m\u001B[43m(\u001B[49m\u001B[38;5;28;43mself\u001B[39;49m\u001B[43m,\u001B[49m\u001B[43m \u001B[49m\u001B[43metype\u001B[49m\u001B[43m,\u001B[49m\u001B[43m \u001B[49m\u001B[43mvalue\u001B[49m\u001B[43m)\u001B[49m\n",
      "File \u001B[1;32m~\\Desktop\\实习\\nl2sql\\.venv\\Lib\\site-packages\\IPython\\core\\ultratb.py:568\u001B[0m, in \u001B[0;36mListTB.structured_traceback\u001B[1;34m(self, etype, evalue, etb, tb_offset, context)\u001B[0m\n\u001B[0;32m    565\u001B[0m     chained_exc_ids\u001B[38;5;241m.\u001B[39madd(\u001B[38;5;28mid\u001B[39m(exception[\u001B[38;5;241m1\u001B[39m]))\n\u001B[0;32m    566\u001B[0m     chained_exceptions_tb_offset \u001B[38;5;241m=\u001B[39m \u001B[38;5;241m0\u001B[39m\n\u001B[0;32m    567\u001B[0m     out_list \u001B[38;5;241m=\u001B[39m (\n\u001B[1;32m--> 568\u001B[0m         \u001B[38;5;28;43mself\u001B[39;49m\u001B[38;5;241;43m.\u001B[39;49m\u001B[43mstructured_traceback\u001B[49m\u001B[43m(\u001B[49m\n\u001B[0;32m    569\u001B[0m \u001B[43m            \u001B[49m\u001B[43metype\u001B[49m\u001B[43m,\u001B[49m\n\u001B[0;32m    570\u001B[0m \u001B[43m            \u001B[49m\u001B[43mevalue\u001B[49m\u001B[43m,\u001B[49m\n\u001B[0;32m    571\u001B[0m \u001B[43m            \u001B[49m\u001B[43m(\u001B[49m\u001B[43metb\u001B[49m\u001B[43m,\u001B[49m\u001B[43m \u001B[49m\u001B[43mchained_exc_ids\u001B[49m\u001B[43m)\u001B[49m\u001B[43m,\u001B[49m\u001B[43m  \u001B[49m\u001B[38;5;66;43;03m# type: ignore\u001B[39;49;00m\n\u001B[0;32m    572\u001B[0m \u001B[43m            \u001B[49m\u001B[43mchained_exceptions_tb_offset\u001B[49m\u001B[43m,\u001B[49m\n\u001B[0;32m    573\u001B[0m \u001B[43m            \u001B[49m\u001B[43mcontext\u001B[49m\u001B[43m,\u001B[49m\n\u001B[0;32m    574\u001B[0m \u001B[43m        \u001B[49m\u001B[43m)\u001B[49m\n\u001B[0;32m    575\u001B[0m         \u001B[38;5;241m+\u001B[39m chained_exception_message\n\u001B[0;32m    576\u001B[0m         \u001B[38;5;241m+\u001B[39m out_list)\n\u001B[0;32m    578\u001B[0m \u001B[38;5;28;01mreturn\u001B[39;00m out_list\n",
      "File \u001B[1;32m~\\Desktop\\实习\\nl2sql\\.venv\\Lib\\site-packages\\IPython\\core\\ultratb.py:1454\u001B[0m, in \u001B[0;36mAutoFormattedTB.structured_traceback\u001B[1;34m(self, etype, evalue, etb, tb_offset, number_of_lines_of_context)\u001B[0m\n\u001B[0;32m   1452\u001B[0m \u001B[38;5;28;01melse\u001B[39;00m:\n\u001B[0;32m   1453\u001B[0m     \u001B[38;5;28mself\u001B[39m\u001B[38;5;241m.\u001B[39mtb \u001B[38;5;241m=\u001B[39m etb\n\u001B[1;32m-> 1454\u001B[0m \u001B[38;5;28;01mreturn\u001B[39;00m \u001B[43mFormattedTB\u001B[49m\u001B[38;5;241;43m.\u001B[39;49m\u001B[43mstructured_traceback\u001B[49m\u001B[43m(\u001B[49m\n\u001B[0;32m   1455\u001B[0m \u001B[43m    \u001B[49m\u001B[38;5;28;43mself\u001B[39;49m\u001B[43m,\u001B[49m\u001B[43m \u001B[49m\u001B[43metype\u001B[49m\u001B[43m,\u001B[49m\u001B[43m \u001B[49m\u001B[43mevalue\u001B[49m\u001B[43m,\u001B[49m\u001B[43m \u001B[49m\u001B[43metb\u001B[49m\u001B[43m,\u001B[49m\u001B[43m \u001B[49m\u001B[43mtb_offset\u001B[49m\u001B[43m,\u001B[49m\u001B[43m \u001B[49m\u001B[43mnumber_of_lines_of_context\u001B[49m\n\u001B[0;32m   1456\u001B[0m \u001B[43m\u001B[49m\u001B[43m)\u001B[49m\n",
      "File \u001B[1;32m~\\Desktop\\实习\\nl2sql\\.venv\\Lib\\site-packages\\IPython\\core\\ultratb.py:1345\u001B[0m, in \u001B[0;36mFormattedTB.structured_traceback\u001B[1;34m(self, etype, value, tb, tb_offset, number_of_lines_of_context)\u001B[0m\n\u001B[0;32m   1342\u001B[0m mode \u001B[38;5;241m=\u001B[39m \u001B[38;5;28mself\u001B[39m\u001B[38;5;241m.\u001B[39mmode\n\u001B[0;32m   1343\u001B[0m \u001B[38;5;28;01mif\u001B[39;00m mode \u001B[38;5;129;01min\u001B[39;00m \u001B[38;5;28mself\u001B[39m\u001B[38;5;241m.\u001B[39mverbose_modes:\n\u001B[0;32m   1344\u001B[0m     \u001B[38;5;66;03m# Verbose modes need a full traceback\u001B[39;00m\n\u001B[1;32m-> 1345\u001B[0m     \u001B[38;5;28;01mreturn\u001B[39;00m \u001B[43mVerboseTB\u001B[49m\u001B[38;5;241;43m.\u001B[39;49m\u001B[43mstructured_traceback\u001B[49m\u001B[43m(\u001B[49m\n\u001B[0;32m   1346\u001B[0m \u001B[43m        \u001B[49m\u001B[38;5;28;43mself\u001B[39;49m\u001B[43m,\u001B[49m\u001B[43m \u001B[49m\u001B[43metype\u001B[49m\u001B[43m,\u001B[49m\u001B[43m \u001B[49m\u001B[43mvalue\u001B[49m\u001B[43m,\u001B[49m\u001B[43m \u001B[49m\u001B[43mtb\u001B[49m\u001B[43m,\u001B[49m\u001B[43m \u001B[49m\u001B[43mtb_offset\u001B[49m\u001B[43m,\u001B[49m\u001B[43m \u001B[49m\u001B[43mnumber_of_lines_of_context\u001B[49m\n\u001B[0;32m   1347\u001B[0m \u001B[43m    \u001B[49m\u001B[43m)\u001B[49m\n\u001B[0;32m   1348\u001B[0m \u001B[38;5;28;01melif\u001B[39;00m mode \u001B[38;5;241m==\u001B[39m \u001B[38;5;124m'\u001B[39m\u001B[38;5;124mMinimal\u001B[39m\u001B[38;5;124m'\u001B[39m:\n\u001B[0;32m   1349\u001B[0m     \u001B[38;5;28;01mreturn\u001B[39;00m ListTB\u001B[38;5;241m.\u001B[39mget_exception_only(\u001B[38;5;28mself\u001B[39m, etype, value)\n",
      "File \u001B[1;32m~\\Desktop\\实习\\nl2sql\\.venv\\Lib\\site-packages\\IPython\\core\\ultratb.py:1192\u001B[0m, in \u001B[0;36mVerboseTB.structured_traceback\u001B[1;34m(self, etype, evalue, etb, tb_offset, number_of_lines_of_context)\u001B[0m\n\u001B[0;32m   1183\u001B[0m \u001B[38;5;28;01mdef\u001B[39;00m \u001B[38;5;21mstructured_traceback\u001B[39m(\n\u001B[0;32m   1184\u001B[0m     \u001B[38;5;28mself\u001B[39m,\n\u001B[0;32m   1185\u001B[0m     etype: \u001B[38;5;28mtype\u001B[39m,\n\u001B[1;32m   (...)\u001B[0m\n\u001B[0;32m   1189\u001B[0m     number_of_lines_of_context: \u001B[38;5;28mint\u001B[39m \u001B[38;5;241m=\u001B[39m \u001B[38;5;241m5\u001B[39m,\n\u001B[0;32m   1190\u001B[0m ):\n\u001B[0;32m   1191\u001B[0m \u001B[38;5;250m    \u001B[39m\u001B[38;5;124;03m\"\"\"Return a nice text document describing the traceback.\"\"\"\u001B[39;00m\n\u001B[1;32m-> 1192\u001B[0m     formatted_exception \u001B[38;5;241m=\u001B[39m \u001B[38;5;28;43mself\u001B[39;49m\u001B[38;5;241;43m.\u001B[39;49m\u001B[43mformat_exception_as_a_whole\u001B[49m\u001B[43m(\u001B[49m\u001B[43metype\u001B[49m\u001B[43m,\u001B[49m\u001B[43m \u001B[49m\u001B[43mevalue\u001B[49m\u001B[43m,\u001B[49m\u001B[43m \u001B[49m\u001B[43metb\u001B[49m\u001B[43m,\u001B[49m\u001B[43m \u001B[49m\u001B[43mnumber_of_lines_of_context\u001B[49m\u001B[43m,\u001B[49m\n\u001B[0;32m   1193\u001B[0m \u001B[43m                                                           \u001B[49m\u001B[43mtb_offset\u001B[49m\u001B[43m)\u001B[49m\n\u001B[0;32m   1195\u001B[0m     colors \u001B[38;5;241m=\u001B[39m \u001B[38;5;28mself\u001B[39m\u001B[38;5;241m.\u001B[39mColors  \u001B[38;5;66;03m# just a shorthand + quicker name lookup\u001B[39;00m\n\u001B[0;32m   1196\u001B[0m     colorsnormal \u001B[38;5;241m=\u001B[39m colors\u001B[38;5;241m.\u001B[39mNormal  \u001B[38;5;66;03m# used a lot\u001B[39;00m\n",
      "File \u001B[1;32m~\\Desktop\\实习\\nl2sql\\.venv\\Lib\\site-packages\\IPython\\core\\ultratb.py:1082\u001B[0m, in \u001B[0;36mVerboseTB.format_exception_as_a_whole\u001B[1;34m(self, etype, evalue, etb, number_of_lines_of_context, tb_offset)\u001B[0m\n\u001B[0;32m   1079\u001B[0m \u001B[38;5;28;01massert\u001B[39;00m \u001B[38;5;28misinstance\u001B[39m(tb_offset, \u001B[38;5;28mint\u001B[39m)\n\u001B[0;32m   1080\u001B[0m head \u001B[38;5;241m=\u001B[39m \u001B[38;5;28mself\u001B[39m\u001B[38;5;241m.\u001B[39mprepare_header(\u001B[38;5;28mstr\u001B[39m(etype), \u001B[38;5;28mself\u001B[39m\u001B[38;5;241m.\u001B[39mlong_header)\n\u001B[0;32m   1081\u001B[0m records \u001B[38;5;241m=\u001B[39m (\n\u001B[1;32m-> 1082\u001B[0m     \u001B[38;5;28;43mself\u001B[39;49m\u001B[38;5;241;43m.\u001B[39;49m\u001B[43mget_records\u001B[49m\u001B[43m(\u001B[49m\u001B[43metb\u001B[49m\u001B[43m,\u001B[49m\u001B[43m \u001B[49m\u001B[43mnumber_of_lines_of_context\u001B[49m\u001B[43m,\u001B[49m\u001B[43m \u001B[49m\u001B[43mtb_offset\u001B[49m\u001B[43m)\u001B[49m \u001B[38;5;28;01mif\u001B[39;00m etb \u001B[38;5;28;01melse\u001B[39;00m []\n\u001B[0;32m   1083\u001B[0m )\n\u001B[0;32m   1085\u001B[0m frames \u001B[38;5;241m=\u001B[39m []\n\u001B[0;32m   1086\u001B[0m skipped \u001B[38;5;241m=\u001B[39m \u001B[38;5;241m0\u001B[39m\n",
      "File \u001B[1;32m~\\Desktop\\实习\\nl2sql\\.venv\\Lib\\site-packages\\IPython\\core\\ultratb.py:1150\u001B[0m, in \u001B[0;36mVerboseTB.get_records\u001B[1;34m(self, etb, number_of_lines_of_context, tb_offset)\u001B[0m\n\u001B[0;32m   1148\u001B[0m \u001B[38;5;28;01mwhile\u001B[39;00m cf \u001B[38;5;129;01mis\u001B[39;00m \u001B[38;5;129;01mnot\u001B[39;00m \u001B[38;5;28;01mNone\u001B[39;00m:\n\u001B[0;32m   1149\u001B[0m     \u001B[38;5;28;01mtry\u001B[39;00m:\n\u001B[1;32m-> 1150\u001B[0m         mod \u001B[38;5;241m=\u001B[39m inspect\u001B[38;5;241m.\u001B[39mgetmodule(\u001B[43mcf\u001B[49m\u001B[38;5;241;43m.\u001B[39;49m\u001B[43mtb_frame\u001B[49m)\n\u001B[0;32m   1151\u001B[0m         \u001B[38;5;28;01mif\u001B[39;00m mod \u001B[38;5;129;01mis\u001B[39;00m \u001B[38;5;129;01mnot\u001B[39;00m \u001B[38;5;28;01mNone\u001B[39;00m:\n\u001B[0;32m   1152\u001B[0m             mod_name \u001B[38;5;241m=\u001B[39m mod\u001B[38;5;241m.\u001B[39m\u001B[38;5;18m__name__\u001B[39m\n",
      "\u001B[1;31mAttributeError\u001B[0m: 'tuple' object has no attribute 'tb_frame'"
     ]
    }
   ],
   "execution_count": 3
  },
  {
   "metadata": {
    "ExecuteTime": {
     "start_time": "2024-08-08T07:39:19.165783Z"
    }
   },
   "cell_type": "code",
   "source": "main.isexist_data()",
   "id": "f9e95c8562832683",
   "outputs": [],
   "execution_count": null
  },
  {
   "metadata": {},
   "cell_type": "code",
   "outputs": [],
   "execution_count": null,
   "source": "",
   "id": "d80aa4090a85ee83"
  }
 ],
 "metadata": {
  "kernelspec": {
   "display_name": "Python 3",
   "language": "python",
   "name": "python3"
  },
  "language_info": {
   "codemirror_mode": {
    "name": "ipython",
    "version": 2
   },
   "file_extension": ".py",
   "mimetype": "text/x-python",
   "name": "python",
   "nbconvert_exporter": "python",
   "pygments_lexer": "ipython2",
   "version": "2.7.6"
  }
 },
 "nbformat": 4,
 "nbformat_minor": 5
}
