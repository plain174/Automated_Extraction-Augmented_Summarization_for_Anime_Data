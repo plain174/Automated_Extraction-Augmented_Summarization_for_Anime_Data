{
 "cells": [
  {
   "cell_type": "code",
   "id": "initial_id",
   "metadata": {
    "collapsed": true,
    "ExecuteTime": {
     "end_time": "2024-08-21T04:41:44.195711Z",
     "start_time": "2024-08-21T04:41:43.732198Z"
    }
   },
   "source": "from main import *",
   "outputs": [],
   "execution_count": 1
  },
  {
   "metadata": {
    "ExecuteTime": {
     "end_time": "2024-08-21T04:38:58.251278Z",
     "start_time": "2024-08-21T04:38:58.247107Z"
    }
   },
   "cell_type": "code",
   "source": [
    "init_menu=\"C:/Users/17402/Desktop/爬虫/new1/\"#输出目录\n",
    "total_menu=\"C:/Users/17402/Desktop/爬虫/total/\"#总数据存储目录\n",
    "excel_url=\"C:/Users/17402/Desktop/爬虫/new1/0.csv\"#看番excel存储地址"
   ],
   "id": "aeac4f886b7947dc",
   "outputs": [],
   "execution_count": 2
  },
  {
   "metadata": {
    "ExecuteTime": {
     "end_time": "2024-08-21T04:41:45.783Z",
     "start_time": "2024-08-21T04:41:45.762806Z"
    }
   },
   "cell_type": "code",
   "source": "print(cartoon_list)",
   "id": "c0153a8f84348bfb",
   "outputs": [
    {
     "name": "stdout",
     "output_type": "stream",
     "text": [
      "{}\n"
     ]
    }
   ],
   "execution_count": 2
  },
  {
   "metadata": {
    "ExecuteTime": {
     "end_time": "2024-08-21T04:41:47.201424Z",
     "start_time": "2024-08-21T04:41:47.079617Z"
    }
   },
   "cell_type": "code",
   "source": "read_e(True)",
   "id": "8b52f61ca59f9178",
   "outputs": [
    {
     "name": "stdout",
     "output_type": "stream",
     "text": [
      "NO GAME NO LIFE 游戏人生\n",
      "读取失败\n"
     ]
    }
   ],
   "execution_count": 3
  },
  {
   "metadata": {},
   "cell_type": "code",
   "outputs": [],
   "execution_count": null,
   "source": "import result_main",
   "id": "34aeafc90dfaa80f"
  },
  {
   "metadata": {},
   "cell_type": "code",
   "outputs": [],
   "execution_count": null,
   "source": "user_name='plain'#用户名字",
   "id": "5db2d1e10e91f003"
  },
  {
   "metadata": {},
   "cell_type": "code",
   "outputs": [],
   "execution_count": null,
   "source": "result_main.main(user_name)",
   "id": "3f29eab40becabd6"
  },
  {
   "metadata": {},
   "cell_type": "code",
   "outputs": [],
   "execution_count": null,
   "source": "#输出文件在init—menu/save/overleaf 是latex格式文件，下载https://mirrors.tuna.tsinghua.edu.cn/CTAN/systems/texlive/Images/后用cmd xelatex name.tex即可",
   "id": "ddb9ffae4bd64a58"
  }
 ],
 "metadata": {
  "kernelspec": {
   "display_name": "Python 3",
   "language": "python",
   "name": "python3"
  },
  "language_info": {
   "codemirror_mode": {
    "name": "ipython",
    "version": 2
   },
   "file_extension": ".py",
   "mimetype": "text/x-python",
   "name": "python",
   "nbconvert_exporter": "python",
   "pygments_lexer": "ipython2",
   "version": "2.7.6"
  }
 },
 "nbformat": 4,
 "nbformat_minor": 5
}
