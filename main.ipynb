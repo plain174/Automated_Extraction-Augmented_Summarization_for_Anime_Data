{
 "cells": [
  {
   "cell_type": "code",
   "execution_count": null,
   "id": "initial_id",
   "metadata": {
    "collapsed": true
   },
   "outputs": [],
   "source": "from main import *"
  },
  {
   "metadata": {},
   "cell_type": "code",
   "outputs": [],
   "execution_count": null,
   "source": [
    "init_menu=\"C:/Users/17402/Desktop/爬虫/new/\"#输出目录\n",
    "total_menu=\"C:/Users/17402/Desktop/爬虫/total/\"#总数据存储目录\n",
    "excel_url=\"C:/Users/17402/Desktop/爬虫/new/番剧记录平野.csv\"#看番excel存储地址"
   ],
   "id": "aeac4f886b7947dc"
  },
  {
   "metadata": {},
   "cell_type": "code",
   "outputs": [],
   "execution_count": null,
   "source": "read_e(True)",
   "id": "8b52f61ca59f9178"
  },
  {
   "metadata": {},
   "cell_type": "code",
   "outputs": [],
   "execution_count": null,
   "source": "import result_main",
   "id": "34aeafc90dfaa80f"
  },
  {
   "metadata": {},
   "cell_type": "code",
   "outputs": [],
   "execution_count": null,
   "source": "user_name='plain'#用户名字",
   "id": "5db2d1e10e91f003"
  },
  {
   "metadata": {},
   "cell_type": "code",
   "outputs": [],
   "execution_count": null,
   "source": "result_main.main(user_name)",
   "id": "3f29eab40becabd6"
  },
  {
   "metadata": {},
   "cell_type": "code",
   "outputs": [],
   "execution_count": null,
   "source": "#输出文件在init—menu/save/overleaf 是latex格式文件，下载https://mirrors.tuna.tsinghua.edu.cn/CTAN/systems/texlive/Images/后用cmd xelatex name.tex即可",
   "id": "ddb9ffae4bd64a58"
  }
 ],
 "metadata": {
  "kernelspec": {
   "display_name": "Python 3",
   "language": "python",
   "name": "python3"
  },
  "language_info": {
   "codemirror_mode": {
    "name": "ipython",
    "version": 2
   },
   "file_extension": ".py",
   "mimetype": "text/x-python",
   "name": "python",
   "nbconvert_exporter": "python",
   "pygments_lexer": "ipython2",
   "version": "2.7.6"
  }
 },
 "nbformat": 4,
 "nbformat_minor": 5
}
